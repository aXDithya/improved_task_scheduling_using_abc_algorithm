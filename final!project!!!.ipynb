{
 "cells": [
  {
   "cell_type": "code",
   "execution_count": 1,
   "id": "ae6984fe",
   "metadata": {},
   "outputs": [],
   "source": [
    "import pandas as pd"
   ]
  },
  {
   "cell_type": "code",
   "execution_count": 2,
   "id": "dbeb4583",
   "metadata": {},
   "outputs": [
    {
     "name": "stdout",
     "output_type": "stream",
     "text": [
      "   dur  dead  prio\n",
      "0    1     1     1\n",
      "1    1     2     1\n",
      "2    1     3     1\n",
      "3    1     4     1\n",
      "4    1     5     1\n"
     ]
    }
   ],
   "source": [
    "priority_dataset=pd.read_csv(\"data.csv\")\n",
    "print(priority_dataset.head())"
   ]
  },
  {
   "cell_type": "code",
   "execution_count": 3,
   "id": "b415868d",
   "metadata": {},
   "outputs": [],
   "source": [
    "class get_priority:\n",
    "    def priority(self,dur,dead,prio):\n",
    "        self.dead=dead\n",
    "        self.dur=dur\n",
    "        self.prio=prio"
   ]
  },
  {
   "cell_type": "code",
   "execution_count": 4,
   "id": "1dfc163e",
   "metadata": {},
   "outputs": [],
   "source": [
    "priority_values=[]\n",
    "x=y=z=0\n",
    "for k in range(0,45):\n",
    "    p1=get_priority()\n",
    "    temp_dur=priority_dataset.dur[x]\n",
    "    temp_dead=priority_dataset.dead[y]\n",
    "    temp_prio=priority_dataset.prio[z]\n",
    "    p1.priority(temp_dur,temp_dead,temp_prio)\n",
    "    priority_values.append(p1)\n",
    "    x=y=z=x+1"
   ]
  },
  {
   "cell_type": "code",
   "execution_count": 5,
   "id": "3c41c0ff",
   "metadata": {},
   "outputs": [
    {
     "name": "stdout",
     "output_type": "stream",
     "text": [
      "1\n",
      "45\n"
     ]
    }
   ],
   "source": [
    "print(priority_values[0].dur)\n",
    "print(len(priority_values))"
   ]
  },
  {
   "cell_type": "code",
   "execution_count": 6,
   "id": "59b19bc0",
   "metadata": {},
   "outputs": [
    {
     "name": "stdout",
     "output_type": "stream",
     "text": [
      "   dur  dead\n",
      "0    1     1\n",
      "1    1     1\n",
      "2    2     3\n",
      "3    1     5\n",
      "4    1     5\n"
     ]
    }
   ],
   "source": [
    "input_dataset=pd.read_csv(\"real_input.csv\")\n",
    "print(input_dataset.head())"
   ]
  },
  {
   "cell_type": "code",
   "execution_count": 19,
   "id": "655e602a",
   "metadata": {},
   "outputs": [
    {
     "name": "stdin",
     "output_type": "stream",
     "text": [
      "Enter the duration of task 5\n",
      "Enter the deadline of task 9\n",
      "Do you wish to continue? 1/0 0\n"
     ]
    }
   ],
   "source": [
    "while True:\n",
    "    dur=int(input(\"Enter the duration of task\"))\n",
    "    dead=int(input(\"Enter the deadline of task\"))\n",
    "    input_dataset=pd.DataFrame({'dur':[dur],'dead':[dead]})\n",
    "    input_dataset.to_csv('in.csv', mode='a', index=False, header=False)\n",
    "    temp=input(\"Do you wish to continue? 1/0\")\n",
    "    if temp==1:\n",
    "        continue\n",
    "    else:\n",
    "        break"
   ]
  },
  {
   "cell_type": "code",
   "execution_count": 7,
   "id": "37727faa",
   "metadata": {},
   "outputs": [],
   "source": [
    "class tasks:\n",
    "    def task(self,dur,dead):\n",
    "        self.dur=dur\n",
    "        self.dead=dead\n",
    "tasks_list=[]\n",
    "x=y=0\n",
    "for k in range(0,len(input_dataset)):\n",
    "    t1=tasks()\n",
    "    temp_dur=input_dataset.dur[x]\n",
    "    temp_dead=input_dataset.dead[y]\n",
    "    t1.task(temp_dur,temp_dead)\n",
    "    tasks_list.append(t1)\n",
    "    x=y=z=x+1"
   ]
  },
  {
   "cell_type": "code",
   "execution_count": 8,
   "id": "cfaa6b73-ebf8-457d-be4f-defbe372a394",
   "metadata": {},
   "outputs": [
    {
     "name": "stdout",
     "output_type": "stream",
     "text": [
      "   dur  dead\n",
      "0    1     1\n",
      "1    1     1\n",
      "2    2     3\n",
      "3    1     5\n",
      "4    1     5\n"
     ]
    }
   ],
   "source": [
    "input_dataset=pd.read_csv(\"real_input.csv\")\n",
    "print(input_dataset.head())"
   ]
  },
  {
   "cell_type": "code",
   "execution_count": 9,
   "id": "6fb34c11",
   "metadata": {},
   "outputs": [
    {
     "name": "stdout",
     "output_type": "stream",
     "text": [
      "[1, 1, 2, 1, 1, 2, 2, 1, 2, 2, 3, 3, 4, 3, 3, 4, 4, 5, 5, 5, 5, 5, 6, 6, 7, 6, 7, 7, 7, 8, 8, 8, 9, 8, 8, 9, 9, 9, 9, 9, 9, 9, 9, 9]\n"
     ]
    }
   ],
   "source": [
    "priority_of_tasks=[]\n",
    "for k in range(0,len(tasks_list)):\n",
    "    for l in range(0,45):\n",
    "        if tasks_list[k].dur<=priority_values[l].dur and tasks_list[k].dead<=priority_values[l].dead:\n",
    "            priority_of_tasks.append(priority_values[l].prio)\n",
    "            break\n",
    "print(priority_of_tasks)"
   ]
  },
  {
   "cell_type": "code",
   "execution_count": 10,
   "id": "073a3cc5",
   "metadata": {},
   "outputs": [
    {
     "name": "stdout",
     "output_type": "stream",
     "text": [
      "[<__main__.tasks object at 0x000001E6A51A8A40>, <__main__.tasks object at 0x000001E6A59D64B0>, <__main__.tasks object at 0x000001E6A59D5D90>, <__main__.tasks object at 0x000001E6A59D4B00>, <__main__.tasks object at 0x000001E6A59D59D0>, <__main__.tasks object at 0x000001E6A59D5BE0>, <__main__.tasks object at 0x000001E6A59D5A00>, <__main__.tasks object at 0x000001E6A59D5C70>, <__main__.tasks object at 0x000001E6A59D63F0>, <__main__.tasks object at 0x000001E6A59D6420>, <__main__.tasks object at 0x000001E6A59D6330>, <__main__.tasks object at 0x000001E6A59D6360>, <__main__.tasks object at 0x000001E6A59D64E0>, <__main__.tasks object at 0x000001E6A59D6510>, <__main__.tasks object at 0x000001E6A59D62D0>, <__main__.tasks object at 0x000001E6A59D5F10>, <__main__.tasks object at 0x000001E6A59D5FA0>, <__main__.tasks object at 0x000001E6A59D6450>, <__main__.tasks object at 0x000001E6A59D5B80>, <__main__.tasks object at 0x000001E6A59D5EB0>, <__main__.tasks object at 0x000001E6A59D5E80>, <__main__.tasks object at 0x000001E6A59D5EE0>, <__main__.tasks object at 0x000001E6A59D5F40>, <__main__.tasks object at 0x000001E6A59D5FD0>, <__main__.tasks object at 0x000001E6A59D5F70>, <__main__.tasks object at 0x000001E6A59D5CA0>, <__main__.tasks object at 0x000001E6A59D6030>, <__main__.tasks object at 0x000001E6A59D6060>, <__main__.tasks object at 0x000001E6A59D6090>, <__main__.tasks object at 0x000001E6A59D60C0>, <__main__.tasks object at 0x000001E6A59D60F0>, <__main__.tasks object at 0x000001E6A59D6120>, <__main__.tasks object at 0x000001E6A59D5D00>, <__main__.tasks object at 0x000001E6A59D5D60>, <__main__.tasks object at 0x000001E6A59D5D30>, <__main__.tasks object at 0x000001E6A59D6180>, <__main__.tasks object at 0x000001E6A59D6540>, <__main__.tasks object at 0x000001E6A59D6570>, <__main__.tasks object at 0x000001E6A59D6600>, <__main__.tasks object at 0x000001E6A59D6630>, <__main__.tasks object at 0x000001E6A59D6660>, <__main__.tasks object at 0x000001E6A59D6690>, <__main__.tasks object at 0x000001E6A59D66C0>, <__main__.tasks object at 0x000001E6A59D66F0>]\n"
     ]
    }
   ],
   "source": [
    "print(tasks_list)"
   ]
  },
  {
   "cell_type": "code",
   "execution_count": 11,
   "id": "0567273f-971f-4011-8560-6c0ea5953c42",
   "metadata": {},
   "outputs": [],
   "source": [
    "class sort:\n",
    "    def bubble_sort(self,arr):\n",
    "        self.arr=arr\n",
    "        n = len(arr)  \n",
    "        for i in range(n):\n",
    "            for j in range(0, n-i-1):\n",
    "                if arr[j] > arr[j+1]:  \n",
    "                    arr[j], arr[j+1] = arr[j+1], arr[j]\n",
    "                    tasks_list[j], tasks_list[j+1] = tasks_list[j+1], tasks_list[j]"
   ]
  },
  {
   "cell_type": "code",
   "execution_count": 12,
   "id": "89157e04-1de7-4c9e-af42-84ab404faced",
   "metadata": {},
   "outputs": [
    {
     "name": "stdout",
     "output_type": "stream",
     "text": [
      "[1, 1, 1, 1, 1, 2, 2, 2, 2, 2, 3, 3, 3, 3, 4, 4, 4, 5, 5, 5, 5, 5, 6, 6, 6, 7, 7, 7, 7, 8, 8, 8, 8, 8, 9, 9, 9, 9, 9, 9, 9, 9, 9, 9]\n",
      "[<__main__.tasks object at 0x000001E6A51A8A40>, <__main__.tasks object at 0x000001E6A59D64B0>, <__main__.tasks object at 0x000001E6A59D4B00>, <__main__.tasks object at 0x000001E6A59D59D0>, <__main__.tasks object at 0x000001E6A59D5C70>, <__main__.tasks object at 0x000001E6A59D5D90>, <__main__.tasks object at 0x000001E6A59D5BE0>, <__main__.tasks object at 0x000001E6A59D5A00>, <__main__.tasks object at 0x000001E6A59D63F0>, <__main__.tasks object at 0x000001E6A59D6420>, <__main__.tasks object at 0x000001E6A59D6330>, <__main__.tasks object at 0x000001E6A59D6360>, <__main__.tasks object at 0x000001E6A59D6510>, <__main__.tasks object at 0x000001E6A59D62D0>, <__main__.tasks object at 0x000001E6A59D64E0>, <__main__.tasks object at 0x000001E6A59D5F10>, <__main__.tasks object at 0x000001E6A59D5FA0>, <__main__.tasks object at 0x000001E6A59D6450>, <__main__.tasks object at 0x000001E6A59D5B80>, <__main__.tasks object at 0x000001E6A59D5EB0>, <__main__.tasks object at 0x000001E6A59D5E80>, <__main__.tasks object at 0x000001E6A59D5EE0>, <__main__.tasks object at 0x000001E6A59D5F40>, <__main__.tasks object at 0x000001E6A59D5FD0>, <__main__.tasks object at 0x000001E6A59D5CA0>, <__main__.tasks object at 0x000001E6A59D5F70>, <__main__.tasks object at 0x000001E6A59D6030>, <__main__.tasks object at 0x000001E6A59D6060>, <__main__.tasks object at 0x000001E6A59D6090>, <__main__.tasks object at 0x000001E6A59D60C0>, <__main__.tasks object at 0x000001E6A59D60F0>, <__main__.tasks object at 0x000001E6A59D6120>, <__main__.tasks object at 0x000001E6A59D5D60>, <__main__.tasks object at 0x000001E6A59D5D30>, <__main__.tasks object at 0x000001E6A59D5D00>, <__main__.tasks object at 0x000001E6A59D6180>, <__main__.tasks object at 0x000001E6A59D6540>, <__main__.tasks object at 0x000001E6A59D6570>, <__main__.tasks object at 0x000001E6A59D6600>, <__main__.tasks object at 0x000001E6A59D6630>, <__main__.tasks object at 0x000001E6A59D6660>, <__main__.tasks object at 0x000001E6A59D6690>, <__main__.tasks object at 0x000001E6A59D66C0>, <__main__.tasks object at 0x000001E6A59D66F0>]\n"
     ]
    }
   ],
   "source": [
    "s=sort()\n",
    "s.bubble_sort(priority_of_tasks)\n",
    "print(priority_of_tasks)\n",
    "print(tasks_list)"
   ]
  },
  {
   "cell_type": "code",
   "execution_count": 13,
   "id": "91997e2c",
   "metadata": {},
   "outputs": [
    {
     "name": "stdout",
     "output_type": "stream",
     "text": [
      "[1, 1, 5, 5, 8, 3, 6, 7, 9, 9, 3, 3, 5, 7, 4, 5, 6, 6, 6, 7, 9, 9, 7, 8, 8, 7, 9, 8, 9, 8, 9, 9, 9, 9, 9, 9, 9, 9, 9, 9, 9, 9, 9, 9]\n",
      "[1, 1, 1, 1, 1, 2, 2, 2, 2, 2, 3, 3, 3, 3, 4, 4, 4, 5, 5, 5, 5, 5, 6, 6, 6, 7, 7, 7, 7, 8, 8, 8, 8, 8, 9, 9, 9, 9, 9, 9, 9, 9, 9, 9]\n"
     ]
    }
   ],
   "source": [
    "job_deadlines=[]\n",
    "job_durations=[]\n",
    "for i in range(0,len(tasks_list)):\n",
    "    job_deadlines.append(tasks_list[i].dead)\n",
    "    job_durations.append(tasks_list[i].dur)\n",
    "print(job_deadlines)\n",
    "print(job_durations)"
   ]
  },
  {
   "cell_type": "code",
   "execution_count": 14,
   "id": "5c1bc3c8",
   "metadata": {},
   "outputs": [
    {
     "name": "stdout",
     "output_type": "stream",
     "text": [
      "Best Solution: [21, 1, 8, 20, 3, 13, 2, 12, 5, 7, 28, 35, 15, 30, 26, 10, 33, 14, 34, 9, 17, 44, 25, 16, 19, 22, 11, 37, 4, 6, 38, 39, 18, 32, 23, 24, 36, 31, 40, 27, 42, 43, 41, 29]\n",
      "Best Fitness: 1.0002396357536545\n"
     ]
    }
   ],
   "source": [
    "import random\n",
    "import math\n",
    "\n",
    "class ArtificialBeeColony:\n",
    "    def __init__(self, num_jobs, job_durations, job_deadlines, num_food_sources, max_iterations):\n",
    "        self.num_jobs = num_jobs\n",
    "        self.job_durations = job_durations\n",
    "        self.job_deadlines = job_deadlines\n",
    "        self.num_food_sources = num_food_sources\n",
    "        self.max_iterations = max_iterations\n",
    "        \n",
    "        self.working_matrix = []\n",
    "        self.neighbour_search = []\n",
    "        self.counter_of_food_source = []\n",
    "        self.best_solution = []\n",
    "        self.max_fitness = -1\n",
    "        self.max_fitness_bee = 0\n",
    "        self.q_table = {}\n",
    "\n",
    "    def initialize(self):\n",
    "        for i in range(self.num_food_sources):\n",
    "            solution = random.sample(range(1, self.num_jobs + 1), self.num_jobs)\n",
    "            self.working_matrix.append(solution)\n",
    "            self.neighbour_search.append(solution[:])\n",
    "            self.q_table[tuple(solution)] = 0\n",
    "        \n",
    "        self.update_best_solution()\n",
    "\n",
    "    def fitness_value(self, solution):\n",
    "        delay = []\n",
    "        total_time_taken = 0\n",
    "        delay_made = 0\n",
    "        for job in solution:\n",
    "            total_time_taken += self.job_durations[job - 1]\n",
    "            delay_made = total_time_taken - self.job_deadlines[job - 1]\n",
    "            if delay_made < 0:\n",
    "                delay_made = 0\n",
    "            delay.append(delay_made)\n",
    "        return 1 + (1 / sum(delay))\n",
    "\n",
    "    def update_best_solution(self):\n",
    "        for i in range(self.num_food_sources):\n",
    "            fitness = self.fitness_value(self.working_matrix[i])\n",
    "            if fitness > self.max_fitness:\n",
    "                self.max_fitness = fitness\n",
    "                self.best_solution = self.working_matrix[i][:]\n",
    "                self.max_fitness_bee = i\n",
    "\n",
    "    def select_two_random_numbers(self):\n",
    "        return random.sample(range(0, self.num_jobs), 2)\n",
    "\n",
    "    def swap(self, solution):\n",
    "        i, j = self.select_two_random_numbers()\n",
    "        solution[i], solution[j] = solution[j], solution[i]\n",
    "\n",
    "    def insertion(self, solution):\n",
    "        i, j = self.select_two_random_numbers()\n",
    "        solution.insert(j, solution.pop(i))\n",
    "\n",
    "    def reversion(self, solution):\n",
    "        i, j = sorted(self.select_two_random_numbers())\n",
    "        solution[i:j + 1] = reversed(solution[i:j + 1])\n",
    "\n",
    "    def employed_bee_phase(self):\n",
    "        for i in range(self.num_food_sources):\n",
    "            new_solution = self.working_matrix[i][:]\n",
    "            if random.random() < 1/3:\n",
    "                self.swap(new_solution)\n",
    "            elif random.random() < 2/3:\n",
    "                self.insertion(new_solution)\n",
    "            else:\n",
    "                self.reversion(new_solution)\n",
    "\n",
    "            if self.fitness_value(new_solution) > self.fitness_value(self.working_matrix[i]):\n",
    "                self.working_matrix[i] = new_solution[:]\n",
    "\n",
    "            self.q_table[tuple(self.working_matrix[i])] = self.fitness_value(self.working_matrix[i])\n",
    "        \n",
    "        self.update_best_solution()\n",
    "\n",
    "    def onlooker_bee_phase(self):\n",
    "        for _ in range(self.num_food_sources):\n",
    "            selected_solution = max(self.working_matrix, key=lambda x: self.q_table[tuple(x)])\n",
    "            new_solution = selected_solution[:]\n",
    "            if random.random() < 1/3:\n",
    "                self.swap(new_solution)\n",
    "            elif random.random() < 2/3:\n",
    "                self.insertion(new_solution)\n",
    "            else:\n",
    "                self.reversion(new_solution)\n",
    "\n",
    "            if self.fitness_value(new_solution) > self.fitness_value(selected_solution):\n",
    "                selected_solution = new_solution[:]\n",
    "            \n",
    "            self.q_table[tuple(selected_solution)] = self.fitness_value(selected_solution)\n",
    "        \n",
    "        self.update_best_solution()\n",
    "\n",
    "    def scout_bee_phase(self):\n",
    "        for i in range(self.num_food_sources):\n",
    "            if self.fitness_value(self.working_matrix[i]) == self.max_fitness:\n",
    "                self.working_matrix[i] = random.sample(range(1, self.num_jobs + 1), self.num_jobs)\n",
    "                self.q_table[tuple(self.working_matrix[i])] = self.fitness_value(self.working_matrix[i])\n",
    "        \n",
    "        self.update_best_solution()\n",
    "\n",
    "    def run(self):\n",
    "        self.initialize()\n",
    "        for _ in range(self.max_iterations):\n",
    "            self.employed_bee_phase()\n",
    "            self.onlooker_bee_phase()\n",
    "            self.scout_bee_phase()\n",
    "        \n",
    "        return self.best_solution, self.max_fitness\n",
    "\n",
    "# Example usage:\n",
    "num_jobs = len(job_durations)\n",
    "num_food_sources = 10\n",
    "max_iterations = 100\n",
    "\n",
    "abc = ArtificialBeeColony(num_jobs, job_durations, job_deadlines, num_food_sources, max_iterations)\n",
    "best_solution, best_fitness = abc.run()\n",
    "\n",
    "print(f\"Best Solution: {best_solution}\")\n",
    "print(f\"Best Fitness: {best_fitness}\")\n",
    "# type: ignore"
   ]
  },
  {
   "cell_type": "code",
   "execution_count": null,
   "id": "9bc39adf",
   "metadata": {},
   "outputs": [],
   "source": []
  }
 ],
 "metadata": {
  "kernelspec": {
   "display_name": "Python 3 (ipykernel)",
   "language": "python",
   "name": "python3"
  },
  "language_info": {
   "codemirror_mode": {
    "name": "ipython",
    "version": 3
   },
   "file_extension": ".py",
   "mimetype": "text/x-python",
   "name": "python",
   "nbconvert_exporter": "python",
   "pygments_lexer": "ipython3",
   "version": "3.12.1"
  }
 },
 "nbformat": 4,
 "nbformat_minor": 5
}
